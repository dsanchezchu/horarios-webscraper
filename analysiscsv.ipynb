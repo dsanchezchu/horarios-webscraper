{
 "cells": [
  {
   "cell_type": "markdown",
   "id": "2c2d23f1",
   "metadata": {},
   "source": [
    "1. Importar librerías"
   ]
  },
  {
   "cell_type": "code",
   "execution_count": 1,
   "id": "32bff72c",
   "metadata": {},
   "outputs": [],
   "source": [
    "import pandas as pd\n",
    "import numpy as np\n",
    "import matplotlib.pyplot as plt\n",
    "import seaborn as sns\n",
    "\n",
    "%matplotlib inline\n",
    "sns.set(style=\"whitegrid\")\n"
   ]
  },
  {
   "cell_type": "markdown",
   "id": "1e8ecbd8",
   "metadata": {},
   "source": [
    "2. Cargar el dataset"
   ]
  },
  {
   "cell_type": "code",
   "execution_count": 3,
   "id": "92637c8f",
   "metadata": {},
   "outputs": [
    {
     "data": {
      "text/html": [
       "<div>\n",
       "<style scoped>\n",
       "    .dataframe tbody tr th:only-of-type {\n",
       "        vertical-align: middle;\n",
       "    }\n",
       "\n",
       "    .dataframe tbody tr th {\n",
       "        vertical-align: top;\n",
       "    }\n",
       "\n",
       "    .dataframe thead th {\n",
       "        text-align: right;\n",
       "    }\n",
       "</style>\n",
       "<table border=\"1\" class=\"dataframe\">\n",
       "  <thead>\n",
       "    <tr style=\"text-align: right;\">\n",
       "      <th></th>\n",
       "      <th>curso</th>\n",
       "      <th>nrc</th>\n",
       "      <th>id_liga</th>\n",
       "      <th>docente</th>\n",
       "      <th>dia</th>\n",
       "      <th>hora_inicio</th>\n",
       "      <th>hora_fin</th>\n",
       "    </tr>\n",
       "  </thead>\n",
       "  <tbody>\n",
       "    <tr>\n",
       "      <th>0</th>\n",
       "      <td>CIEN-648</td>\n",
       "      <td>9441</td>\n",
       "      <td>T1</td>\n",
       "      <td>MURGA TORRES EMZON ENRIQUE</td>\n",
       "      <td>MIE</td>\n",
       "      <td>08:50:00</td>\n",
       "      <td>09:40:00</td>\n",
       "    </tr>\n",
       "    <tr>\n",
       "      <th>1</th>\n",
       "      <td>CIEN-648</td>\n",
       "      <td>9441</td>\n",
       "      <td>T1</td>\n",
       "      <td>MURGA TORRES EMZON ENRIQUE</td>\n",
       "      <td>MIE</td>\n",
       "      <td>09:45:00</td>\n",
       "      <td>10:35:00</td>\n",
       "    </tr>\n",
       "    <tr>\n",
       "      <th>2</th>\n",
       "      <td>CIEN-648</td>\n",
       "      <td>9442</td>\n",
       "      <td>P1</td>\n",
       "      <td>MURGA TORRES EMZON ENRIQUE</td>\n",
       "      <td>MIE</td>\n",
       "      <td>10:40:00</td>\n",
       "      <td>11:30:00</td>\n",
       "    </tr>\n",
       "    <tr>\n",
       "      <th>3</th>\n",
       "      <td>CIEN-648</td>\n",
       "      <td>9442</td>\n",
       "      <td>P1</td>\n",
       "      <td>MURGA TORRES EMZON ENRIQUE</td>\n",
       "      <td>MIE</td>\n",
       "      <td>11:35:00</td>\n",
       "      <td>12:25:00</td>\n",
       "    </tr>\n",
       "    <tr>\n",
       "      <th>4</th>\n",
       "      <td>CIEN-648</td>\n",
       "      <td>9443</td>\n",
       "      <td>L1</td>\n",
       "      <td>COSAVALENTE CULQUICHICON PAUL</td>\n",
       "      <td>MIE</td>\n",
       "      <td>13:25:00</td>\n",
       "      <td>14:15:00</td>\n",
       "    </tr>\n",
       "  </tbody>\n",
       "</table>\n",
       "</div>"
      ],
      "text/plain": [
       "      curso   nrc id_liga                        docente  dia hora_inicio  \\\n",
       "0  CIEN-648  9441      T1     MURGA TORRES EMZON ENRIQUE  MIE    08:50:00   \n",
       "1  CIEN-648  9441      T1     MURGA TORRES EMZON ENRIQUE  MIE    09:45:00   \n",
       "2  CIEN-648  9442      P1     MURGA TORRES EMZON ENRIQUE  MIE    10:40:00   \n",
       "3  CIEN-648  9442      P1     MURGA TORRES EMZON ENRIQUE  MIE    11:35:00   \n",
       "4  CIEN-648  9443      L1  COSAVALENTE CULQUICHICON PAUL  MIE    13:25:00   \n",
       "\n",
       "   hora_fin  \n",
       "0  09:40:00  \n",
       "1  10:35:00  \n",
       "2  11:30:00  \n",
       "3  12:25:00  \n",
       "4  14:15:00  "
      ]
     },
     "execution_count": 3,
     "metadata": {},
     "output_type": "execute_result"
    }
   ],
   "source": [
    "df = pd.read_csv('../horarios-webscraper/combined_horarios.csv')\n",
    "df.head()\n"
   ]
  },
  {
   "cell_type": "markdown",
   "id": "bebdd489",
   "metadata": {},
   "source": [
    "3. Información general del dataset"
   ]
  },
  {
   "cell_type": "code",
   "execution_count": 4,
   "id": "a43aee23",
   "metadata": {},
   "outputs": [
    {
     "data": {
      "text/plain": [
       "(304, 7)"
      ]
     },
     "execution_count": 4,
     "metadata": {},
     "output_type": "execute_result"
    }
   ],
   "source": [
    "# Número de filas y columnas\n",
    "df.shape"
   ]
  },
  {
   "cell_type": "code",
   "execution_count": 5,
   "id": "17f978ae",
   "metadata": {},
   "outputs": [
    {
     "name": "stdout",
     "output_type": "stream",
     "text": [
      "<class 'pandas.core.frame.DataFrame'>\n",
      "RangeIndex: 304 entries, 0 to 303\n",
      "Data columns (total 7 columns):\n",
      " #   Column       Non-Null Count  Dtype \n",
      "---  ------       --------------  ----- \n",
      " 0   curso        304 non-null    object\n",
      " 1   nrc          304 non-null    int64 \n",
      " 2   id_liga      284 non-null    object\n",
      " 3   docente      304 non-null    object\n",
      " 4   dia          304 non-null    object\n",
      " 5   hora_inicio  304 non-null    object\n",
      " 6   hora_fin     304 non-null    object\n",
      "dtypes: int64(1), object(6)\n",
      "memory usage: 16.8+ KB\n"
     ]
    }
   ],
   "source": [
    "# Tipos de datos y nulos\n",
    "df.info()\n"
   ]
  },
  {
   "cell_type": "code",
   "execution_count": 6,
   "id": "b4c9afd8",
   "metadata": {},
   "outputs": [
    {
     "data": {
      "text/html": [
       "<div>\n",
       "<style scoped>\n",
       "    .dataframe tbody tr th:only-of-type {\n",
       "        vertical-align: middle;\n",
       "    }\n",
       "\n",
       "    .dataframe tbody tr th {\n",
       "        vertical-align: top;\n",
       "    }\n",
       "\n",
       "    .dataframe thead th {\n",
       "        text-align: right;\n",
       "    }\n",
       "</style>\n",
       "<table border=\"1\" class=\"dataframe\">\n",
       "  <thead>\n",
       "    <tr style=\"text-align: right;\">\n",
       "      <th></th>\n",
       "      <th>curso</th>\n",
       "      <th>nrc</th>\n",
       "      <th>id_liga</th>\n",
       "      <th>docente</th>\n",
       "      <th>dia</th>\n",
       "      <th>hora_inicio</th>\n",
       "      <th>hora_fin</th>\n",
       "    </tr>\n",
       "  </thead>\n",
       "  <tbody>\n",
       "    <tr>\n",
       "      <th>count</th>\n",
       "      <td>304</td>\n",
       "      <td>304.000000</td>\n",
       "      <td>284</td>\n",
       "      <td>304</td>\n",
       "      <td>304</td>\n",
       "      <td>304</td>\n",
       "      <td>304</td>\n",
       "    </tr>\n",
       "    <tr>\n",
       "      <th>unique</th>\n",
       "      <td>20</td>\n",
       "      <td>NaN</td>\n",
       "      <td>11</td>\n",
       "      <td>28</td>\n",
       "      <td>6</td>\n",
       "      <td>17</td>\n",
       "      <td>17</td>\n",
       "    </tr>\n",
       "    <tr>\n",
       "      <th>top</th>\n",
       "      <td>CIEN-648</td>\n",
       "      <td>NaN</td>\n",
       "      <td>L1</td>\n",
       "      <td>LETURIA RODRIGUEZ WALTER IVAN</td>\n",
       "      <td>JUE</td>\n",
       "      <td>09:45:00</td>\n",
       "      <td>10:35:00</td>\n",
       "    </tr>\n",
       "    <tr>\n",
       "      <th>freq</th>\n",
       "      <td>30</td>\n",
       "      <td>NaN</td>\n",
       "      <td>94</td>\n",
       "      <td>28</td>\n",
       "      <td>65</td>\n",
       "      <td>29</td>\n",
       "      <td>29</td>\n",
       "    </tr>\n",
       "    <tr>\n",
       "      <th>mean</th>\n",
       "      <td>NaN</td>\n",
       "      <td>9909.312500</td>\n",
       "      <td>NaN</td>\n",
       "      <td>NaN</td>\n",
       "      <td>NaN</td>\n",
       "      <td>NaN</td>\n",
       "      <td>NaN</td>\n",
       "    </tr>\n",
       "    <tr>\n",
       "      <th>std</th>\n",
       "      <td>NaN</td>\n",
       "      <td>1108.232901</td>\n",
       "      <td>NaN</td>\n",
       "      <td>NaN</td>\n",
       "      <td>NaN</td>\n",
       "      <td>NaN</td>\n",
       "      <td>NaN</td>\n",
       "    </tr>\n",
       "    <tr>\n",
       "      <th>min</th>\n",
       "      <td>NaN</td>\n",
       "      <td>5145.000000</td>\n",
       "      <td>NaN</td>\n",
       "      <td>NaN</td>\n",
       "      <td>NaN</td>\n",
       "      <td>NaN</td>\n",
       "      <td>NaN</td>\n",
       "    </tr>\n",
       "    <tr>\n",
       "      <th>25%</th>\n",
       "      <td>NaN</td>\n",
       "      <td>9447.750000</td>\n",
       "      <td>NaN</td>\n",
       "      <td>NaN</td>\n",
       "      <td>NaN</td>\n",
       "      <td>NaN</td>\n",
       "      <td>NaN</td>\n",
       "    </tr>\n",
       "    <tr>\n",
       "      <th>50%</th>\n",
       "      <td>NaN</td>\n",
       "      <td>9567.000000</td>\n",
       "      <td>NaN</td>\n",
       "      <td>NaN</td>\n",
       "      <td>NaN</td>\n",
       "      <td>NaN</td>\n",
       "      <td>NaN</td>\n",
       "    </tr>\n",
       "    <tr>\n",
       "      <th>75%</th>\n",
       "      <td>NaN</td>\n",
       "      <td>9691.000000</td>\n",
       "      <td>NaN</td>\n",
       "      <td>NaN</td>\n",
       "      <td>NaN</td>\n",
       "      <td>NaN</td>\n",
       "      <td>NaN</td>\n",
       "    </tr>\n",
       "    <tr>\n",
       "      <th>max</th>\n",
       "      <td>NaN</td>\n",
       "      <td>12483.000000</td>\n",
       "      <td>NaN</td>\n",
       "      <td>NaN</td>\n",
       "      <td>NaN</td>\n",
       "      <td>NaN</td>\n",
       "      <td>NaN</td>\n",
       "    </tr>\n",
       "  </tbody>\n",
       "</table>\n",
       "</div>"
      ],
      "text/plain": [
       "           curso           nrc id_liga                        docente  dia  \\\n",
       "count        304    304.000000     284                            304  304   \n",
       "unique        20           NaN      11                             28    6   \n",
       "top     CIEN-648           NaN      L1  LETURIA RODRIGUEZ WALTER IVAN  JUE   \n",
       "freq          30           NaN      94                             28   65   \n",
       "mean         NaN   9909.312500     NaN                            NaN  NaN   \n",
       "std          NaN   1108.232901     NaN                            NaN  NaN   \n",
       "min          NaN   5145.000000     NaN                            NaN  NaN   \n",
       "25%          NaN   9447.750000     NaN                            NaN  NaN   \n",
       "50%          NaN   9567.000000     NaN                            NaN  NaN   \n",
       "75%          NaN   9691.000000     NaN                            NaN  NaN   \n",
       "max          NaN  12483.000000     NaN                            NaN  NaN   \n",
       "\n",
       "       hora_inicio  hora_fin  \n",
       "count          304       304  \n",
       "unique          17        17  \n",
       "top       09:45:00  10:35:00  \n",
       "freq            29        29  \n",
       "mean           NaN       NaN  \n",
       "std            NaN       NaN  \n",
       "min            NaN       NaN  \n",
       "25%            NaN       NaN  \n",
       "50%            NaN       NaN  \n",
       "75%            NaN       NaN  \n",
       "max            NaN       NaN  "
      ]
     },
     "execution_count": 6,
     "metadata": {},
     "output_type": "execute_result"
    }
   ],
   "source": [
    "\n",
    "# Estadísticas básicas\n",
    "df.describe(include='all')\n"
   ]
  },
  {
   "cell_type": "markdown",
   "id": "6ef30813",
   "metadata": {},
   "source": [
    "4. Verificar valores únicos por columna"
   ]
  },
  {
   "cell_type": "code",
   "execution_count": 7,
   "id": "8b4d869e",
   "metadata": {},
   "outputs": [
    {
     "name": "stdout",
     "output_type": "stream",
     "text": [
      "curso: 20 valores únicos\n",
      "nrc: 111 valores únicos\n",
      "id_liga: 11 valores únicos\n",
      "docente: 28 valores únicos\n",
      "dia: 6 valores únicos\n",
      "hora_inicio: 17 valores únicos\n",
      "hora_fin: 17 valores únicos\n"
     ]
    }
   ],
   "source": [
    "for col in df.columns:\n",
    "    print(f\"{col}: {df[col].nunique()} valores únicos\")\n"
   ]
  },
  {
   "cell_type": "markdown",
   "id": "6551b672",
   "metadata": {},
   "source": [
    "5. Verificar valores nulos"
   ]
  },
  {
   "cell_type": "code",
   "execution_count": 8,
   "id": "1e285030",
   "metadata": {},
   "outputs": [
    {
     "data": {
      "text/plain": [
       "curso           0\n",
       "nrc             0\n",
       "id_liga        20\n",
       "docente         0\n",
       "dia             0\n",
       "hora_inicio     0\n",
       "hora_fin        0\n",
       "dtype: int64"
      ]
     },
     "execution_count": 8,
     "metadata": {},
     "output_type": "execute_result"
    }
   ],
   "source": [
    "df.isnull().sum()\n"
   ]
  },
  {
   "cell_type": "markdown",
   "id": "04044f0f",
   "metadata": {},
   "source": [
    "6. Distribución de docentes"
   ]
  },
  {
   "cell_type": "code",
   "execution_count": 10,
   "id": "89ef2794",
   "metadata": {},
   "outputs": [
    {
     "data": {
      "text/plain": [
       "docente\n",
       "LETURIA RODRIGUEZ WALTER IVAN        28\n",
       "ABANTO CABRERA HEBER GERSON          26\n",
       "MIRANDA VELASQUEZ EDDY MODESTO       26\n",
       "CABALLERO ALVARADO ARMANDO JAVIER    20\n",
       "CASTILLO ROBLES EDWARD FERNANDO      20\n",
       "CALDERON SEDANO JOSE ANTONIO         19\n",
       "CASTAÑEDA SALDAÑA JOSE ARTURO        16\n",
       "CHÁVEZ FERNÁNDEZ EDILBERTO CÉSAR     14\n",
       "CUEVA CHAVEZ WALTER MANUEL           14\n",
       "GAVIDIA IVERICO JESUS ROBERTO        14\n",
       "Name: count, dtype: int64"
      ]
     },
     "execution_count": 10,
     "metadata": {},
     "output_type": "execute_result"
    }
   ],
   "source": [
    "df['docente'].value_counts().head(10)\n"
   ]
  },
  {
   "cell_type": "markdown",
   "id": "b4d3c093",
   "metadata": {},
   "source": [
    "7. Distribución de clases por día"
   ]
  },
  {
   "cell_type": "code",
   "execution_count": 11,
   "id": "f3301566",
   "metadata": {},
   "outputs": [
    {
     "data": {
      "image/png": "[encoded data removed]",
      "text/plain": [
       "<Figure size 640x480 with 1 Axes>"
      ]
     },
     "metadata": {},
     "output_type": "display_data"
    }
   ],
   "source": [
    "sns.countplot(data=df, x='dia', order=[\"LUN\", \"MAR\", \"MIE\", \"JUE\", \"VIE\", \"SAB\"])\n",
    "plt.title(\"Cantidad de clases por día\")\n",
    "plt.xlabel(\"Día de la semana\")\n",
    "plt.ylabel(\"Cantidad de clases\")\n",
    "plt.show()\n"
   ]
  },
  {
   "cell_type": "markdown",
   "id": "291a51fe",
   "metadata": {},
   "source": [
    "8. Ver rango horario de inicio de clases"
   ]
  },
  {
   "cell_type": "code",
   "execution_count": 12,
   "id": "642b8f87",
   "metadata": {},
   "outputs": [
    {
     "data": {
      "image/png": "[encoded data removed]",
      "text/plain": [
       "<Figure size 1200x500 with 1 Axes>"
      ]
     },
     "metadata": {},
     "output_type": "display_data"
    }
   ],
   "source": [
    "df['hora_inicio'].value_counts().sort_index().plot(kind='bar', figsize=(12,5))\n",
    "plt.title(\"Distribución de horarios de inicio\")\n",
    "plt.xlabel(\"Hora de inicio\")\n",
    "plt.ylabel(\"Frecuencia\")\n",
    "plt.show()\n"
   ]
  }
 ],
 "metadata": {
  "kernelspec": {
   "display_name": "base",
   "language": "python",
   "name": "python3"
  },
  "language_info": {
   "codemirror_mode": {
    "name": "ipython",
    "version": 3
   },
   "file_extension": ".py",
   "mimetype": "text/x-python",
   "name": "python",
   "nbconvert_exporter": "python",
   "pygments_lexer": "ipython3",
   "version": "3.12.7"
  }
 },
 "nbformat": 4,
 "nbformat_minor": 5
}
