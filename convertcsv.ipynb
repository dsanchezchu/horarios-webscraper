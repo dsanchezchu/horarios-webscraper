{
 "cells": [
  {
   "cell_type": "markdown",
   "id": "da59652e",
   "metadata": {},
   "source": [
    "# Import Required Libraries\n",
    "Import libraries such as `os`, `json`, and `pandas`."
   ]
  },
  {
   "cell_type": "code",
   "execution_count": 6,
   "id": "279360ef",
   "metadata": {},
   "outputs": [],
   "source": [
    "# Import Required Libraries\n",
    "import os\n",
    "import json\n",
    "import pandas as pd"
   ]
  },
  {
   "cell_type": "markdown",
   "id": "c70f96fb",
   "metadata": {},
   "source": [
    "# Define File Paths\n",
    "Set the path to the `data-horatios` folder and define the output CSV file path."
   ]
  },
  {
   "cell_type": "code",
   "execution_count": 7,
   "id": "4e045206",
   "metadata": {},
   "outputs": [],
   "source": [
    "# Define File Paths\n",
    "data_folder = \"c:\\\\Users\\\\Usuario\\\\Desktop\\\\Proyecto-ML\\\\horarios-webscraper\\\\data-horatios\"\n",
    "output_csv = \"c:\\\\Users\\\\Usuario\\\\Desktop\\\\Proyecto-ML\\\\horarios-webscraper\\\\combined_horarios.csv\""
   ]
  },
  {
   "cell_type": "markdown",
   "id": "350e508c",
   "metadata": {},
   "source": [
    "# Load JSON Files\n",
    "Iterate through all JSON files in the folder and load their contents."
   ]
  },
  {
   "cell_type": "code",
   "execution_count": 8,
   "id": "e77b53bd",
   "metadata": {},
   "outputs": [],
   "source": [
    "# Load JSON Files\n",
    "all_data = []\n",
    "\n",
    "for filename in os.listdir(data_folder):\n",
    "    if filename.endswith(\"_raw.json\"):\n",
    "        file_path = os.path.join(data_folder, filename)\n",
    "        with open(file_path, \"r\", encoding=\"utf-8\") as file:\n",
    "            data = json.load(file)\n",
    "            all_data.extend(data)"
   ]
  },
  {
   "cell_type": "markdown",
   "id": "b7f9202b",
   "metadata": {},
   "source": [
    "# Convert JSON to DataFrame\n",
    "Flatten the JSON structure and convert it into a pandas DataFrame."
   ]
  },
  {
   "cell_type": "code",
   "execution_count": 9,
   "id": "1c9f09eb",
   "metadata": {},
   "outputs": [],
   "source": [
    "# Convert JSON to DataFrame\n",
    "flattened_data = []\n",
    "\n",
    "for entry in all_data:\n",
    "    curso = entry[\"curso\"]\n",
    "    nrc = entry[\"nrc\"]\n",
    "    id_liga = entry[\"id_liga\"]\n",
    "    docente = entry[\"docente\"]\n",
    "    \n",
    "    for horario in entry[\"horarios\"]:\n",
    "        flattened_data.append({\n",
    "            \"curso\": curso,\n",
    "            \"nrc\": nrc,\n",
    "            \"id_liga\": id_liga,\n",
    "            \"docente\": docente,\n",
    "            \"dia\": horario[\"dia\"],\n",
    "            \"hora_inicio\": horario[\"hora_inicio\"],\n",
    "            \"hora_fin\": horario[\"hora_fin\"]\n",
    "        })\n",
    "\n",
    "df = pd.DataFrame(flattened_data)"
   ]
  },
  {
   "cell_type": "markdown",
   "id": "3ba1b284",
   "metadata": {},
   "source": [
    "# Save DataFrame to CSV\n",
    "Save the combined DataFrame to a CSV file."
   ]
  },
  {
   "cell_type": "code",
   "execution_count": 10,
   "id": "4c8379c7",
   "metadata": {},
   "outputs": [
    {
     "name": "stdout",
     "output_type": "stream",
     "text": [
      "CSV file saved to c:\\Users\\Usuario\\Desktop\\Proyecto-ML\\horarios-webscraper\\combined_horarios.csv\n"
     ]
    }
   ],
   "source": [
    "# Save DataFrame to CSV\n",
    "df.to_csv(output_csv, index=False, encoding=\"utf-8\")\n",
    "print(f\"CSV file saved to {output_csv}\")"
   ]
  }
 ],
 "metadata": {
  "kernelspec": {
   "display_name": "Python 3",
   "language": "python",
   "name": "python3"
  },
  "language_info": {
   "codemirror_mode": {
    "name": "ipython",
    "version": 3
   },
   "file_extension": ".py",
   "mimetype": "text/x-python",
   "name": "python",
   "nbconvert_exporter": "python",
   "pygments_lexer": "ipython3",
   "version": "3.13.0"
  }
 },
 "nbformat": 4,
 "nbformat_minor": 5
}
